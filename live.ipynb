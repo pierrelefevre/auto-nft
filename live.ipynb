{
 "cells": [
  {
   "cell_type": "code",
   "execution_count": 2,
   "metadata": {},
   "outputs": [
    {
     "data": {
      "text/plain": [
       "['2. In a bunker, hiding from enemy fire.',\n",
       " '3. On a mission to eliminate an enemy sniper.',\n",
       " '4. In a jungle, searching for hidden enemies.',\n",
       " '5. On a rooftop, providing cover for his fellow soldiers.',\n",
       " '6. In a desert, lost and running low on water.',\n",
       " '7. In a dark alleyway, ambushed by enemy forces.',\n",
       " '8. In a snowy forest, tracking footprints left by enemy troops.',\n",
       " '9. In a hot air balloon, surveying the battlefield from above.',\n",
       " '10. In a trench, waiting for the right moment to attack.',\n",
       " '11. Sneaking into enemy territory to gather intel.']"
      ]
     },
     "execution_count": 2,
     "metadata": {},
     "output_type": "execute_result"
    }
   ],
   "source": [
    "import generate\n",
    "scenarios = generate.scenarios()\n",
    "scenarios\n"
   ]
  },
  {
   "cell_type": "code",
   "execution_count": 3,
   "metadata": {},
   "outputs": [
    {
     "data": {
      "text/plain": [
       "10"
      ]
     },
     "execution_count": 3,
     "metadata": {},
     "output_type": "execute_result"
    }
   ],
   "source": [
    "items = []\n",
    "\n",
    "for i, s in enumerate(scenarios, start=1):\n",
    "    title = generate.title(s)\n",
    "    description = generate.description(s)\n",
    "    generate.image(i, generate.prompt(s))\n",
    "\n",
    "    new_item = {\n",
    "        'tokenID': i,\n",
    "        'name': title,\n",
    "        'description': description,\n",
    "        'file_name': f'{i}.png',\n",
    "    }\n",
    "\n",
    "    items.append(new_item)\n",
    "\n",
    "len(items)"
   ]
  },
  {
   "cell_type": "code",
   "execution_count": null,
   "metadata": {},
   "outputs": [],
   "source": [
    "generate.metadata_file(items)"
   ]
  }
 ],
 "metadata": {
  "kernelspec": {
   "display_name": "Python 3",
   "language": "python",
   "name": "python3"
  },
  "language_info": {
   "codemirror_mode": {
    "name": "ipython",
    "version": 3
   },
   "file_extension": ".py",
   "mimetype": "text/x-python",
   "name": "python",
   "nbconvert_exporter": "python",
   "pygments_lexer": "ipython3",
   "version": "3.11.6"
  }
 },
 "nbformat": 4,
 "nbformat_minor": 2
}
